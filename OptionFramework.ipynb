{
  "nbformat": 4,
  "nbformat_minor": 0,
  "metadata": {
    "colab": {
      "name": "OptionFramework.ipynb",
      "provenance": [],
      "collapsed_sections": []
    },
    "kernelspec": {
      "name": "python3",
      "display_name": "Python 3"
    }
  },
  "cells": [
    {
      "cell_type": "markdown",
      "metadata": {
        "id": "nLiCUnFBiU9u",
        "colab_type": "text"
      },
      "source": [
        "# Option Framework\n",
        "\n",
        "**Papers**\n",
        "* [Option Framework](https://www.sciencedirect.com/science/article/pii/S0004370299000521)\n",
        "* [Learning Options in Reinforcement Learning](http://citeseerx.ist.psu.edu/viewdoc/download?doi=10.1.1.14.2402&rep=rep1&type=pdf)\n",
        "\n",
        "\n",
        "In this notebook I'm exploring the Option Framework while implementing the algorithm proposed at the \"Learning Options in Reinforcement Learning\" paper.\n",
        "The Option Framework tries to address challenges like: learning, planning, and representing knowledge at multiple levels of temporal abstraction. To do that they introduce a new notion of action which they call Option, which is basically an extension of the action as we know. \n"
      ]
    },
    {
      "cell_type": "code",
      "metadata": {
        "id": "jTLSNhvnBLmr",
        "colab_type": "code",
        "colab": {}
      },
      "source": [
        "import random\n",
        "\n",
        "import matplotlib.pyplot as plt\n",
        "import numpy as np\n",
        "from gym import core, spaces"
      ],
      "execution_count": null,
      "outputs": []
    },
    {
      "cell_type": "markdown",
      "metadata": {
        "id": "V0mR58AC9x5n",
        "colab_type": "text"
      },
      "source": [
        "## Environment\n",
        "\n",
        "The four rooms environment used at the paper, is usefull to show how the options are found and how they can use the bottleneck states to help the agent find the goal."
      ]
    },
    {
      "cell_type": "code",
      "metadata": {
        "id": "vxyjm5id9hlW",
        "colab_type": "code",
        "colab": {}
      },
      "source": [
        " # https://github.com/jeanharb/option_critic/tree/master/fourrooms\n",
        "\n",
        "class Fourrooms:\n",
        "    def __init__(self):\n",
        "        layout = \"\"\"\\\n",
        "wwwwwwwwwwwww\n",
        "w     w     w\n",
        "w     w     w\n",
        "w           w\n",
        "w     w     w\n",
        "w     w     w\n",
        "ww wwww     w\n",
        "w     www www\n",
        "w     w     w\n",
        "w     w     w\n",
        "w           w\n",
        "w     w     w\n",
        "wwwwwwwwwwwww\n",
        "\"\"\"\n",
        "        self.occupancy = np.array([list(map(lambda c: 1 if c=='w' else 0, line)) for line in layout.splitlines()])\n",
        "\n",
        "        # From any state the agent can perform one of four actions, up, down, left or right\n",
        "        self.action_space = spaces.Discrete(4)\n",
        "        self.observation_space = spaces.Discrete(np.sum(self.occupancy == 0))\n",
        "\n",
        "        self.directions = [np.array((-1,0)), np.array((1,0)), np.array((0,-1)), np.array((0,1))]\n",
        "        self.rng = np.random.RandomState(1234)\n",
        "\n",
        "        self.tostate = {}\n",
        "        statenum = 0\n",
        "        for i in range(13):\n",
        "            for j in range(13):\n",
        "                if self.occupancy[i, j] == 0:\n",
        "                    self.tostate[(i,j)] = statenum\n",
        "                    statenum += 1\n",
        "        self.tocell = {v:k for k,v in self.tostate.items()}\n",
        "\n",
        "        self.goal = 62\n",
        "        self.init = 0\n",
        "\n",
        "    def empty_around(self, cell):\n",
        "        avail = []\n",
        "        for action in range(self.action_space.n):\n",
        "            nextcell = tuple(cell + self.directions[action])\n",
        "            if not self.occupancy[nextcell]:\n",
        "                avail.append(nextcell)\n",
        "        return avail\n",
        "      \n",
        "    def render_values(self, states):\n",
        "      current_grid = np.array(self.occupancy)\n",
        "      pos = 0\n",
        "      for i in range(len(current_grid)):\n",
        "        for j in range(len(current_grid[0])):\n",
        "          val = current_grid[i, j]\n",
        "          if val != 1:\n",
        "            if pos in states.keys():\n",
        "              current_grid[i, j] = states[pos]\n",
        "            pos += 1\n",
        "          else:\n",
        "            current_grid[i, j] = -10\n",
        "      return current_grid\n",
        "\n",
        "          \n",
        "    def render_pos(self):\n",
        "      current_grid = np.array(self.occupancy)\n",
        "      pos = 0\n",
        "      for i in range(len(current_grid)):\n",
        "        for j in range(len(current_grid[0])):\n",
        "          val = current_grid[i, j]\n",
        "          if val != 1:\n",
        "            current_grid[i, j] = pos\n",
        "            pos += 1\n",
        "          else:\n",
        "            current_grid[i, j] = 0\n",
        "      return current_grid\n",
        "\n",
        "    def reset(self):\n",
        "        #state = self.rng.choice(self.init_states)\n",
        "        state = self.init\n",
        "        self.currentcell = self.tocell[state]\n",
        "        return state\n",
        "\n",
        "    def step(self, action):\n",
        "        \"\"\"\n",
        "        The agent can perform one of four actions,\n",
        "        up, down, left or right, which have a stochastic effect. With probability 2/3, the actions\n",
        "        cause the agent to move one cell in the corresponding direction, and with probability 1/3,\n",
        "        the agent moves instead in one of the other three directions, each with 1/9 probability. In\n",
        "        either case, if the movement would take the agent into a wall then the agent remains in the\n",
        "        same cell.\n",
        "        We consider a case in which rewards are zero on all state transitions.\n",
        "        \"\"\"\n",
        "        nextcell = tuple(self.currentcell + self.directions[action])\n",
        "        if not self.occupancy[nextcell]:\n",
        "            self.currentcell = nextcell\n",
        "            if self.rng.uniform() < 1/3.:\n",
        "                empty_cells = self.empty_around(self.currentcell)\n",
        "                self.currentcell = empty_cells[self.rng.randint(len(empty_cells))]\n",
        "\n",
        "        state = self.tostate[self.currentcell]\n",
        "        done = state == self.goal\n",
        "        return state, float(done), done, None\n",
        "\n"
      ],
      "execution_count": null,
      "outputs": []
    },
    {
      "cell_type": "markdown",
      "metadata": {
        "id": "ADzN88CK96dP",
        "colab_type": "text"
      },
      "source": [
        "## Q Learning Agent\n",
        "\n",
        "$$\n",
        "Q(s_{t},a_{t})=Q(s_{t},a_{t})+\\alpha*(r+\\gamma*max_{a}Q(s_{t+1},a)-Q(s_{t}, a_{t}))\n",
        "$$\n",
        "\n",
        "I used Q-Learning to find the policy when finding the Options but the paper doesn't refer any method in particular. "
      ]
    },
    {
      "cell_type": "code",
      "metadata": {
        "id": "Cmvlbjfl9qQe",
        "colab_type": "code",
        "colab": {}
      },
      "source": [
        "class QLearning:\n",
        "  def __init__(self, obs_size, action_size):\n",
        "    self.epsilon = 0.4\n",
        "    self.gamma = 0.9\n",
        "    self.alpha = 0.1\n",
        "\n",
        "    self.obs_size = obs_size\n",
        "    self.action_size = action_size\n",
        "    self.q_table = np.zeros((obs_size, action_size))\n",
        "\n",
        "  def choose_action(self, s):\n",
        "    if random.random() < self.epsilon:\n",
        "      return int(random.random()*self.action_size)\n",
        "    else:\n",
        "      return np.random.choice(np.flatnonzero(self.q_table[s] == self.q_table[s].max()))\n",
        "\n",
        "  def update(self, s, a, r, s_, done):\n",
        "    if s == s_:\n",
        "      td = r\n",
        "    td = r + self.gamma * self.q_table[s_,np.argmax(self.q_table[s_])] - self.q_table[s,a]\n",
        "    self.q_table[s,a] = self.q_table[s,a] + self.alpha * td\n",
        "\n"
      ],
      "execution_count": null,
      "outputs": []
    },
    {
      "cell_type": "markdown",
      "metadata": {
        "id": "nYYN5Y2kFHO8",
        "colab_type": "text"
      },
      "source": [
        "## Options\n",
        "\n",
        "[Options](https://www.sciencedirect.com/science/article/pii/S0004370299000521) (Precup, 2000; Sutton, Precup & Singh, 1999)\n",
        "\n",
        "An Option consists of three components $<I,\\pi,\\beta>$: $I$ is the input set and the Option is only available if $s\\in I$, $\\pi$ is the policy where $\\pi: S\\times A\\mapsto[0,1]$ and finally $\\beta$ is the termination condition. \n",
        "\n",
        "\"Primitive actions can be viewed as a special case of options.\"\n",
        "\n",
        "### Updates\n",
        "\n",
        "$$\n",
        "Q(s,o)\\leftarrow Q(s,o)+\\alpha [r+\\gamma^{k}max_{a\\in O}Q(s',a)-Q(s,o)]\n",
        "$$\n",
        "\n",
        "### Option\n",
        "\n",
        "* $\\beta$: The Option finishes when reaches it's own target, which is defined during the \"find options\" phase \n",
        "* $\\pi$: I use Q-Learning to learn the policy\n",
        "* $I$: The set is created during the \"find options\" phase \n",
        "\n"
      ]
    },
    {
      "cell_type": "code",
      "metadata": {
        "id": "7nAgID70jEJb",
        "colab_type": "code",
        "colab": {}
      },
      "source": [
        "class Options:\n",
        "  def __init__(self, options, obs_size, action_size):\n",
        "    self.obs_size = obs_size\n",
        "    self.action_size = action_size\n",
        "    self.options = options\n",
        "    self.n_options = len(options)\n",
        "    self.curr_option = -1\n",
        "    self.q_table = np.zeros((obs_size, self.n_options))\n",
        "    self.option_changed = False\n",
        "    self.k = 0\n",
        "\n",
        "    self.epsilon = 0.2\n",
        "    self.gamma = 0.9\n",
        "    self.alpha = 0.9\n",
        "\n",
        "  def _softmax(self, values):\n",
        "    exponentials = np.exp(values)\n",
        "    exp_sum = sum(exponentials)\n",
        "    return exponentials / exp_sum\n",
        "\n",
        "  def choose_action(self, s):\n",
        "    if s == self.options[self.curr_option].target or self.curr_option == -1:\n",
        "      dist = self._softmax([1 if s in option.initiation_set else 0 for option in self.options])\n",
        "      self.curr_option = np.random.choice([i for i in range(self.n_options)], p=dist)\n",
        "      self.option_changed = True\n",
        "      self.k = 0\n",
        "    return self.options[self.curr_option].choose_action(s)\n",
        "\n",
        "  def update(self, s, a, r, s_, done):\n",
        "    self.options[self.curr_option].update(s, a, r, s_, done)\n",
        "    self.k += 1\n",
        "\n",
        "    if self.option_changed:\n",
        "      max_a = self.options[self.curr_option].get_max_state(s_)\n",
        "      td = r + np.power(self.gamma, self.k) * max_a - self.q_table[s,self.curr_option]\n",
        "      self.q_table[s,self.curr_option] = self.q_table[s,self.curr_option] + self.alpha * td\n",
        "      option_changed = False\n"
      ],
      "execution_count": null,
      "outputs": []
    },
    {
      "cell_type": "code",
      "metadata": {
        "id": "nhRnPujSfWyb",
        "colab_type": "code",
        "colab": {}
      },
      "source": [
        "class Option:\n",
        "  def __init__(self, initiation_set, target, obs_size, action_size):\n",
        "    self.obs_size = obs_size\n",
        "    self.action_size = action_size\n",
        "    self.initiation_set = initiation_set\n",
        "    self.target = target\n",
        "    self.q_table = np.zeros((obs_size, action_size))\n",
        "\n",
        "    self.epsilon = 0.2\n",
        "    self.gamma = 0.9\n",
        "    self.alpha = 0.9\n",
        "\n",
        "  def choose_action(self, s):\n",
        "    if random.random() < self.epsilon:\n",
        "      return int(random.random()*self.action_size)\n",
        "    else:\n",
        "      return np.random.choice(np.flatnonzero(self.q_table[s] == self.q_table[s].max()))\n",
        "\n",
        "  def get_max_state(self, s):\n",
        "    return self.q_table[s, np.argmax(self.q_table[s])]\n",
        "\n",
        "  def update(self, s, a, r, s_, done):\n",
        "    td = r + self.gamma * self.q_table[s_,np.argmax(self.q_table[s_])] - self.q_table[s,a]\n",
        "    self.q_table[s,a] = self.q_table[s,a] + self.alpha * td     "
      ],
      "execution_count": null,
      "outputs": []
    },
    {
      "cell_type": "markdown",
      "metadata": {
        "id": "c2_dwYUM93If",
        "colab_type": "text"
      },
      "source": [
        "## Train\n",
        "\n",
        "### Find Options\n",
        "\n",
        "1. Select at random a number of start states S and target states T that will be used to\n",
        "generate random tasks for the agent.\n",
        "2. For each pair $\\langle S,T\\rangle$\n",
        "\n",
        "  (a) Perform $N_{train}$ episodes of Q-learning, to learn a policy for going from S to T\n",
        "  \n",
        "  (b) Perform $N_{test}$ episodes using the greedy policy learned. For all states s, count the total number of times $n(s)$ that each state is visited during these trajectories.\n",
        "\n",
        "3. Repeat until the desired number of options is reached:\n",
        "  \n",
        "  (a) Pick the state with the most visitations, $T_{max}=argmax_{s}n(s)$, as the target state for the option\n",
        "\n",
        "  (b) Compute $n(s,T_{max})$, the number of times each state s occurs on paths that go through $T_{max}$\n",
        "\n",
        "  (c) Compute $\\bar{n}(T_{max})=avg_{s}n(s,T_{max})$\n",
        "\n",
        "  (d) Select all the states s for which $n(s,T_{max})>\\bar{n}(T_{max})$ to be part of the initiation set 2 for the option.\n",
        "\n",
        "  (e) Complete the initiation set by interpolating between the selected states. The interpolation process is domain-specific\n",
        "\n",
        "4. For each option, learn its internal policy; this is achieved by giving a high reward for entering Tmax, and no rewards otherwise. The agent performs Q-learning, by performing episodes which start at random statesin 2 and end when Tmax isreached, or when the agent exists 2.\n"
      ]
    },
    {
      "cell_type": "code",
      "metadata": {
        "id": "ueZ0HruC-RjF",
        "colab_type": "code",
        "colab": {}
      },
      "source": [
        "def find_important_states(env, obs_size, action_size):\n",
        "  # 1. Select pairs <S,T>\n",
        "  pairs = []\n",
        "  n_pairs = 1000\n",
        "  i = 0\n",
        "  while i < n_pairs:\n",
        "    pairs.append((int(random.random()*obs_size), int(random.random()*obs_size)))\n",
        "    if pairs[0][0] != pairs[0][1]:\n",
        "      i += 1\n",
        "\n",
        "  # 2. Find most important states\n",
        "  NUM_EPISODES = 200\n",
        "  states_visits = {}\n",
        "  paths = []\n",
        "  \n",
        "  for pair in pairs:\n",
        "    q_learning_agent = QLearning(obs_size, action_size)\n",
        "    env.init = pair[0]\n",
        "    env.goal = pair[1]\n",
        "\n",
        "    # Train\n",
        "    for episode in range(NUM_EPISODES):\n",
        "      done = False\n",
        "\n",
        "      obs = env.reset()\n",
        "      total = 0\n",
        "      path = [obs]\n",
        "\n",
        "      while not done:\n",
        "        s = obs\n",
        "        action = q_learning_agent.choose_action(s)\n",
        "        obs, reward, done, _ = env.step(action)\n",
        "        total += reward\n",
        "        s_ = obs\n",
        "        path.append(s_)\n",
        "        q_learning_agent.update(s, action, reward, s_, done)\n",
        "      paths.append(path)\n",
        "      \n",
        "    # Test\n",
        "    q_learning_agent.epsilon = 0\n",
        "    done = False\n",
        "    obs = env.reset()\n",
        "    while not done:\n",
        "      s = obs\n",
        "      if not s in states_visits:\n",
        "        states_visits[s] = 0\n",
        "      states_visits[s] += 1\n",
        "      action = q_learning_agent.choose_action(s)\n",
        "      obs, reward, done, _ = env.step(action)\n",
        "  return states_visits, paths\n",
        "\n",
        "def obtain_options(n_options, states_visits, paths, obs_size, action_size):\n",
        "  options = []\n",
        "\n",
        "  for i in range(n_options):\n",
        "    T_max = max(states_visits, key=states_visits.get) # most visited state (not temperature)\n",
        "    states_visits[T_max] = 0\n",
        "    states_occurrences = {}\n",
        "\n",
        "    # (b) Computer n_s\n",
        "    for path in paths:\n",
        "      if not T_max in path:\n",
        "        continue\n",
        "      \n",
        "      for state in path:\n",
        "        if state == T_max:\n",
        "          continue\n",
        "\n",
        "        if not state in states_occurrences:\n",
        "          states_occurrences[state] = 0\n",
        "        states_occurrences[state] += 1\n",
        "    \n",
        "    # (c) Avg\n",
        "    val_sum = sum(states_occurrences.values())\n",
        "    avg = sum([n/val_sum for n in states_occurrences.values()])\n",
        "\n",
        "    # (d) Select all the states s for which n_s > avg\n",
        "    selected_states = []\n",
        "    for state in states_occurrences.keys():\n",
        "      occurrences = states_occurrences[state]\n",
        "      if occurrences > avg:\n",
        "        selected_states.append(state)\n",
        "    options.append(Option(selected_states, T_max, obs_size, action_size))\n",
        "    \n",
        "  return options\n",
        "\n",
        "def find_options(n_options=8):\n",
        "  env = Fourrooms()\n",
        "  obs_size = env.observation_space.n\n",
        "  action_size = env.action_space.n\n",
        "\n",
        "  states_visits, paths = find_important_states(env, obs_size, action_size)\n",
        "\n",
        "  plt.matshow(env.render_values(states_visits))\n",
        "  plt.title(\"States visits\", pad=10.0)\n",
        "  plt.show()\n",
        "\n",
        "  # 3. Obtain Options\n",
        "  return obtain_options(n_options, states_visits, paths, obs_size, action_size)\n"
      ],
      "execution_count": null,
      "outputs": []
    },
    {
      "cell_type": "markdown",
      "metadata": {
        "id": "-gEhOWvU-Tis",
        "colab_type": "text"
      },
      "source": [
        "### Train Options"
      ]
    },
    {
      "cell_type": "code",
      "metadata": {
        "id": "mpmfenGk-Fm-",
        "colab_type": "code",
        "colab": {}
      },
      "source": [
        "def train(options):\n",
        "  env = Fourrooms()\n",
        "  obs_size = env.observation_space.n\n",
        "  action_size = env.action_space.n\n",
        "\n",
        "  # Options\n",
        "  options_q_learning = Options(options, obs_size, action_size)\n",
        "    \n",
        "  env.init = 1\n",
        "  env.goal = 63\n",
        "  n_steps_arr = []\n",
        "  # Train\n",
        "  NUM_EPISODES = 5000\n",
        "  GOAL_CHANGES = 2\n",
        "  BATCH_SIZE = 20\n",
        "\n",
        "  path = []\n",
        "  batch_n = 0\n",
        "  batch_avg = 0\n",
        "  n_steps_arr = np.empty(0, dtype=int)\n",
        "\n",
        "  for episode in range(NUM_EPISODES):\n",
        "    done = False\n",
        "    obs = env.reset()\n",
        "    n_steps = 0\n",
        "    total = 0\n",
        "    while not done:\n",
        "      s = obs\n",
        "      action = options_q_learning.choose_action(s)\n",
        "      obs, reward, done, _ = env.step(action)\n",
        "      total += reward\n",
        "      s_ = obs\n",
        "      path.append(s_)\n",
        "      options_q_learning.update(s, action, reward, s_, done)\n",
        "      n_steps += 1\n",
        "\n",
        "    batch_n += 1\n",
        "    batch_avg += n_steps/BATCH_SIZE\n",
        "\n",
        "    if episode % (NUM_EPISODES/GOAL_CHANGES) == 0:\n",
        "      env.init = int(random.random()*obs_size) \n",
        "      env.goal = int(random.random()*obs_size)\n",
        "\n",
        "    if batch_n % BATCH_SIZE == 0:\n",
        "      n_steps_arr = np.append(n_steps_arr, batch_avg)\n",
        "      batch_avg = 0\n",
        "\n",
        "  \n",
        "  x = np.arange(1,(NUM_EPISODES/BATCH_SIZE)+1)\n",
        "  plt.plot(x, n_steps_arr)\n",
        "  plt.title(\"Training steps (start and goal changes in the middle)\")\n",
        "  plt.show()\n"
      ],
      "execution_count": null,
      "outputs": []
    },
    {
      "cell_type": "code",
      "metadata": {
        "id": "Ii6UeoSA-rLT",
        "colab_type": "code",
        "colab": {
          "base_uri": "https://localhost:8080/",
          "height": 288
        },
        "outputId": "c8c0e94d-a51b-495f-883d-49db120dbdfc"
      },
      "source": [
        "options = find_options()"
      ],
      "execution_count": null,
      "outputs": [
        {
          "output_type": "display_data",
          "data": {
            "image/png": "[encoded data removed]",
            "text/plain": [
              "<Figure size 288x288 with 1 Axes>"
            ]
          },
          "metadata": {
            "tags": [],
            "needs_background": "light"
          }
        }
      ]
    },
    {
      "cell_type": "code",
      "metadata": {
        "id": "8Jk5PzRFD-nv",
        "colab_type": "code",
        "colab": {
          "base_uri": "https://localhost:8080/",
          "height": 281
        },
        "outputId": "5f7594cb-edc3-4bca-9296-502e6f71ffc4"
      },
      "source": [
        "train(options)"
      ],
      "execution_count": null,
      "outputs": [
        {
          "output_type": "display_data",
          "data": {
            "image/png": "[encoded data removed]",
            "text/plain": [
              "<Figure size 432x288 with 1 Axes>"
            ]
          },
          "metadata": {
            "tags": [],
            "needs_background": "light"
          }
        }
      ]
    },
    {
      "cell_type": "markdown",
      "metadata": {
        "id": "PqzOM41CWfVX",
        "colab_type": "text"
      },
      "source": [
        "## Final Thoughts\n",
        "\n",
        "I like this method more than the Feudal RL. The Option idea is really interesting and the relationship between options and actions makes them very intuitive. However, the introduction of the option components ($\\pi, \\beta, I$) adds some complexity that we didn't have with only primitive actions. Another problem with this implementation in specific is that we need to find the Options before learning the policy over options. Fortunately, [The Option-Critic Architecture](https://arxiv.org/abs/1609.05140) proposes a solution that learns both the internal policies and the termination conditions of options, in tandem with the policy over options.\n",
        "\n",
        "When comparing Feudal to Options some ideas emerge. The way I see is that in Feudal each state at any level is an Option (trivial at Level-0), so basically Feudal is a stack of groups of policies over options, but the Options are predefined and not learned. While the Options Framework only has one layer of options, they are learned which can be an advantage. Obviously, this is a very (very) rough comparison. But I made this comparison because, in my opinion, it would be interesting to explore a new Options method that not only learns the options in parallel but also can introduce a new layer of options that controls the policies over options below. An example is how we behave in our lives, we have big long-term goals, mid-term goals, short-term goals and finally, we have daily goals. And all these goals influence in some way all the decisions we make, we set mid-term goals based on long-terms, short-term goals based on mid-term goals and so on. \n",
        "\n"
      ]
    }
  ]
}